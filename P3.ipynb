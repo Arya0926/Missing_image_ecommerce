{
 "cells": [
  {
   "cell_type": "code",
   "execution_count": 1,
   "id": "e37b9801",
   "metadata": {},
   "outputs": [],
   "source": [
    "import requests\n",
    "from bs4 import BeautifulSoup\n",
    "import pandas as pd"
   ]
  },
  {
   "cell_type": "code",
   "execution_count": 4,
   "id": "ff2c373a",
   "metadata": {},
   "outputs": [
    {
     "name": "stdout",
     "output_type": "stream",
     "text": [
      "Enter Sub-Category NAme: Organic\n"
     ]
    }
   ],
   "source": [
    "baseurl='https://yoshops.com/'\n",
    "headers={\n",
    "    'User-Agent':'101'\n",
    "}\n",
    "\n",
    "category= input (\"Enter Sub-Category NAme: \")"
   ]
  },
  {
   "cell_type": "code",
   "execution_count": 5,
   "id": "b5e6d7d6",
   "metadata": {},
   "outputs": [
    {
     "name": "stdout",
     "output_type": "stream",
     "text": [
      "  Category Sub-Category    Missing Images_Product_Name\n",
      "0    Foods      Organic  Cooking OiL 1Liter(Berhampur)\n",
      "1    Foods      Organic            ATTA 1Kg(Berhampur)\n",
      "2    Foods      Organic    Sweet Pickel 1Kg(Berhampur)\n"
     ]
    }
   ],
   "source": [
    "productlists_without_image=[]\n",
    "\n",
    "# for page in range(1,5):\n",
    "r=requests.get(f'https://yoshops.com/t/{category}',headers=headers)\n",
    "soup=BeautifulSoup(r.content,'html.parser')\n",
    "productlist=soup.find_all('div',class_='product')\n",
    "    # print(productlist)\n",
    "for item in productlist:\n",
    "    for imagelink in item.find_all('img', src=True):\n",
    "#             print(imagelink['src'])\n",
    "        if imagelink['src']==('//onlinestore.wsimg.com/assets/noimage/product-5fec99477aebb10bac85d82665ec1497de4536cda3279e59089555c45cf589fa.png'):\n",
    "                \n",
    "            product= imagelink['alt']\n",
    "            productlists_without_image.append(product)\n",
    "\n",
    "                \n",
    "Cat = soup.find('ol', {'class': 'breadcrumb'} )\n",
    "temp_list = Cat.text.split('\\n')\n",
    "Major_cat = temp_list[2]\n",
    "                \n",
    "missing_prod_dic = {'Category':Major_cat,'Sub-Category':category,'Missing Images_Product_Name':productlists_without_image}\n",
    "data = pd.DataFrame(missing_prod_dic)\n",
    "print(data)\n"
   ]
  },
  {
   "cell_type": "code",
   "execution_count": 6,
   "id": "1f5d743a",
   "metadata": {},
   "outputs": [],
   "source": [
    "data.to_excel(category+\".xlsx\")"
   ]
  },
  {
   "cell_type": "code",
   "execution_count": null,
   "id": "8c0de16d",
   "metadata": {},
   "outputs": [],
   "source": []
  },
  {
   "cell_type": "code",
   "execution_count": null,
   "id": "60eff206",
   "metadata": {},
   "outputs": [],
   "source": []
  },
  {
   "cell_type": "code",
   "execution_count": null,
   "id": "dc1d51e0",
   "metadata": {},
   "outputs": [],
   "source": []
  }
 ],
 "metadata": {
  "kernelspec": {
   "display_name": "Python 3 (ipykernel)",
   "language": "python",
   "name": "python3"
  },
  "language_info": {
   "codemirror_mode": {
    "name": "ipython",
    "version": 3
   },
   "file_extension": ".py",
   "mimetype": "text/x-python",
   "name": "python",
   "nbconvert_exporter": "python",
   "pygments_lexer": "ipython3",
   "version": "3.9.13"
  }
 },
 "nbformat": 4,
 "nbformat_minor": 5
}
